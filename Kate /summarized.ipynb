{
 "cells": [
  {
   "cell_type": "code",
   "execution_count": null,
   "metadata": {},
   "outputs": [],
   "source": [
    "#Project Examples "
   ]
  },
  {
   "cell_type": "code",
   "execution_count": null,
   "metadata": {},
   "outputs": [],
   "source": []
  },
  {
   "cell_type": "code",
   "execution_count": 34,
   "metadata": {},
   "outputs": [
    {
     "data": {
      "text/plain": [
       "\"\\nin terminal\\nLast login: Mon Dec  3 13:11:01 on ttys001\\nKaties-MacBook-Pro:~ katierobertson$ pip3 install --upgrade beautifulsoup4\\nRequirement already up-to-date: beautifulsoup4 in /Library/Frameworks/Python.framework/Versions/3.6/lib/python3.6/site-packages (4.6.3)\\nYou are using pip version 18.0, however version 18.1 is available.\\nYou should consider upgrading via the 'pip install --upgrade pip' command.\\nKaties-MacBook-Pro:~ katierobertson$ pip3 install --upgrade beautifulsoup4\\n\""
      ]
     },
     "execution_count": 34,
     "metadata": {},
     "output_type": "execute_result"
    }
   ],
   "source": [
    "'''\n",
    "in terminal\n",
    "Last login: Mon Dec  3 13:11:01 on ttys001\n",
    "Katies-MacBook-Pro:~ katierobertson$ pip3 install --upgrade beautifulsoup4\n",
    "Requirement already up-to-date: beautifulsoup4 in /Library/Frameworks/Python.framework/Versions/3.6/lib/python3.6/site-packages (4.6.3)\n",
    "You are using pip version 18.0, however version 18.1 is available.\n",
    "You should consider upgrading via the 'pip install --upgrade pip' command.\n",
    "Katies-MacBook-Pro:~ katierobertson$ pip3 install --upgrade beautifulsoup4\n",
    "'''"
   ]
  },
  {
   "cell_type": "code",
   "execution_count": 94,
   "metadata": {},
   "outputs": [
    {
     "name": "stdout",
     "output_type": "stream",
     "text": [
      "Requirement already up-to-date: textblob in /Library/Frameworks/Python.framework/Versions/3.6/lib/python3.6/site-packages (0.15.2)\n",
      "Requirement already satisfied, skipping upgrade: nltk>=3.1 in /Library/Frameworks/Python.framework/Versions/3.6/lib/python3.6/site-packages (from textblob) (3.4)\n",
      "Requirement already satisfied, skipping upgrade: singledispatch in /Library/Frameworks/Python.framework/Versions/3.6/lib/python3.6/site-packages (from nltk>=3.1->textblob) (3.4.0.3)\n",
      "Requirement already satisfied, skipping upgrade: six in /Library/Frameworks/Python.framework/Versions/3.6/lib/python3.6/site-packages (from nltk>=3.1->textblob) (1.11.0)\n",
      "\u001b[33mYou are using pip version 18.0, however version 18.1 is available.\n",
      "You should consider upgrading via the 'pip install --upgrade pip' command.\u001b[0m\n",
      "/usr/bin/python: No module named textblob\n"
     ]
    }
   ],
   "source": [
    "! pip3 install --upgrade textblob\n",
    "! python -m textblob.download_corpora\n"
   ]
  },
  {
   "cell_type": "code",
   "execution_count": 95,
   "metadata": {},
   "outputs": [],
   "source": [
    "import requests\n",
    "from bs4 import BeautifulSoup\n"
   ]
  },
  {
   "cell_type": "code",
   "execution_count": 96,
   "metadata": {},
   "outputs": [],
   "source": [
    "from textblob import TextBlob\n"
   ]
  },
  {
   "cell_type": "code",
   "execution_count": 93,
   "metadata": {},
   "outputs": [
    {
     "name": "stdout",
     "output_type": "stream",
     "text": [
      "Please enter your URL to your text: https://books.trinket.io/pfe/06-strings.html\n"
     ]
    }
   ],
   "source": [
    "url = input(\"Please enter your URL to your text: \")\n",
    "#https://books.trinket.io/pfe/06-strings.html"
   ]
  },
  {
   "cell_type": "code",
   "execution_count": 97,
   "metadata": {},
   "outputs": [],
   "source": [
    "#gathers whole textbook\n",
    "response = requests.get(url)\n",
    "html = response.text\n",
    "#print(html)"
   ]
  },
  {
   "cell_type": "code",
   "execution_count": 91,
   "metadata": {},
   "outputs": [],
   "source": [
    "soup = BeautifulSoup(html)\n",
    "\n",
    "#print(soup.html)\n"
   ]
  },
  {
   "cell_type": "code",
   "execution_count": 75,
   "metadata": {},
   "outputs": [
    {
     "data": {
      "text/plain": [
       "['Follow CNN politics',\n",
       " '',\n",
       " \"From CNN's Manu Raju\\t\",\n",
       " 'House Minority Leader\\xa0Nancy Pelosi said at a private reception for departing House\\xa0members Tuesday afternoon that President\\xa0Trump’s remarks at the White House earlier amounted to a “tirade,\" a person who was in the room told CNN.\\xa0',\n",
       " 'This is similar to what she said publicly, but it shows how Democrats viewed the meeting as off-the-rails.',\n",
       " \"From CNN's Betsy Klein\\xa0\",\n",
       " '',\n",
       " 'White House press secretary\\xa0Sarah Sanders just released a readout of the meeting between President Trump and Democratic leaders Nancy Pelosi and Chuck Schumer.\\xa0',\n",
       " 'In the statement, Sanders called the meeting a \"constructive dialogue.\" She said the President was \"grateful for the opportunity to let the press\" into the meeting.',\n",
       " '\"Major disagreement remains on the issue of border security and transparency,\" the readout read.',\n",
       " \"Here's the full statement:\",\n",
       " \"From CNN's Ted Barrett\\xa0\",\n",
       " 'Vice President Mike Pence told CNN the atmosphere in the closed portion of the meeting between\\xa0President Trump, House Minority Leader Nancy Pelosi and Senate Minority Leader Chuck Schumer was\\xa0“very candid.\"\\xa0',\n",
       " 'Pence described the overall meeting as a “good discussion” and said that “it went on quite a while after” the cameras left.\\xa0\\xa0',\n",
       " 'He spoke with reporters briefly as he entered a lunch with Senate Republicans.\\xa0',\n",
       " '',\n",
       " '',\n",
       " 'Reporters just asked Senate Minority Leader Chuck Schumer what he thought of the extraordinary meeting with President Trump. ',\n",
       " '\"I think the President showed what he really thinks.\\xa0He wants to shut down the government,\" Schumer said.',\n",
       " 'Asked if Schumer was expecting that reality TV atmosphere, he said no, \"We were not expecting it.”',\n",
       " '',\n",
       " 'A lot was said during the tense meeting between President Donald Trump, House Minority Leader Nancy Pelosi and Senate Minority Leader Chuck Schumer, which was broadcast moments ago on CNN. ',\n",
       " 'But one man said nothing at all.',\n",
       " \"Vice President Mike Pence didn't say a thing. In fact, he barely shifted his position in the high-backed chair seated next to President Trump. But that silence won't last forever -- if there would ever be a tie in the Senate, Pence will have to speak.\",\n",
       " '',\n",
       " '',\n",
       " '',\n",
       " '',\n",
       " 'House Minority Leader Nancy Pelosi, speaking to reporters, explained how she tried to convince President Trump to keep the government open and avoid a shutdown.',\n",
       " 'She said she told Trump that the new House of Representatives would pass six appropriations bills and have a\\xa0continuing resolution until the end of next September.',\n",
       " 'Watch it here:',\n",
       " '',\n",
       " '',\n",
       " \"From CNN's Jeremy Diamond\",\n",
       " 'Senate Minority Leader Chuck Schumer warned Tuesday in front of the White House that there will be a government shutdown if President Donald Trump refuses to budge from his demand for $5 billion of wall funding. He spoke after the tense meeting with President Trump.',\n",
       " 'Schumer insisted that Democrats \"have offered\" border security funding and warned of what he and Pelosi have termed a \"Trump shutdown.\"',\n",
       " '\"This Trump shutdown, this temper tantrum that he seems to throw, will not get him his wall and will hurt a lot of people,\" Schumer said.',\n",
       " 'Watch more:',\n",
       " '',\n",
       " '',\n",
       " '',\n",
       " \"Aides never expected this meeting to go smoothly — they just didn't think the public would see it, CNN's Phil Mattingly explained moments after it aired.\",\n",
       " '\"This was entirely predictable. In talking to aides really involved in these negotiations directly over the course of the last 12 to 15 hours, they expected something like this. They just expected it to happen behind the scenes,\" Mattingly said.',\n",
       " 'No one expected this to \"be a meeting where a deal was made,\" Mattingly said. Instead, it was a place for parties to \"put their stakes in the ground.\"',\n",
       " '\"These types of meetings, these types of break downs, these types of very public impasses need to occur before people settle down and actually start trying to make a deal,\" he added.',\n",
       " 'One key thing to note: The Democrats may walk away with a key sound bite. ',\n",
       " 'Here\\'s how Mattingly explained it: For Democrats the takeaway may be \"the President saying flatly, despite what Republicans said repeatedly, \\'If there is a shut down, I will take the mantle. If there is a shut down, it is my shut down.\\' That is what Democrats want ... That\\'s what you are going to see on repeat over the next couple of days.\"',\n",
       " \"So what happens now? There's still 11 days ahead of the government shutdown. That's still plenty of time for a deal.\",\n",
       " 'Watch more from Mattingly:',\n",
       " '',\n",
       " '',\n",
       " '',\n",
       " 'President Trump, in a testy exchange with Democratic leaders Nancy Pelosi and Chuck Schumer in the Oval Office, told them, “I am proud to shut down the government for border security.\"',\n",
       " \"Here's the full exchange:\",\n",
       " 'Schumer: \"One thing I think we can agree on is we shouldn\\'t shut down the government over a dispute. You want to shut it down.\"',\n",
       " 'Trump: \"The last time you shut it down.\"',\n",
       " 'Schumer: \"No. 20 times you called for, \\'I will shut down the government if I don\\'t get my wall.\\' You said it. You said it.\"',\n",
       " 'Trump: \"You know what I will say? Yes. If we don\\'t get what we want through you or through military or anyone you want to call, I will shut down the government.\"',\n",
       " 'Schumer: \"We disagree.\"',\n",
       " 'Trump: \"I am proud to shut down the government for border security, Chuck. The people of this country don\\'t\\xa0want criminals and people that have lots of problems and drugs pouring into our country. I will take the mantle. I will be the one to shut it down. I\\'m not going to blame you for it The last time you shut it down it didn\\'t work. I will take the mantle for shutting down. I\\'m going to shut it down for border security.\\xa0',\n",
       " 'Schumer: \"But we believe you shouldn\\'t shut it down.\"',\n",
       " 'See it:',\n",
       " '',\n",
       " '',\n",
       " 'Follow CNN politics',\n",
       " 'Please enable JavaScript for a better experience.']"
      ]
     },
     "execution_count": 75,
     "metadata": {},
     "output_type": "execute_result"
    }
   ],
   "source": [
    "paragraph = []\n",
    "for tag in soup.select('p'):\n",
    "    #print(tag.text)\n",
    "    paragraph.append(tag.text)\n",
    "    \n",
    "paragraph\n",
    "\n"
   ]
  },
  {
   "cell_type": "code",
   "execution_count": 76,
   "metadata": {
    "scrolled": true
   },
   "outputs": [
    {
     "data": {
      "text/plain": [
       "'Follow CNN politics  From CNN\\'s Manu Raju\\t House Minority Leader\\xa0Nancy Pelosi said at a private reception for departing House\\xa0members Tuesday afternoon that President\\xa0Trump’s remarks at the White House earlier amounted to a “tirade,\" a person who was in the room told CNN.\\xa0 This is similar to what she said publicly, but it shows how Democrats viewed the meeting as off-the-rails. From CNN\\'s Betsy Klein\\xa0  White House press secretary\\xa0Sarah Sanders just released a readout of the meeting between President Trump and Democratic leaders Nancy Pelosi and Chuck Schumer.\\xa0 In the statement, Sanders called the meeting a \"constructive dialogue.\" She said the President was \"grateful for the opportunity to let the press\" into the meeting. \"Major disagreement remains on the issue of border security and transparency,\" the readout read. Here\\'s the full statement: From CNN\\'s Ted Barrett\\xa0 Vice President Mike Pence told CNN the atmosphere in the closed portion of the meeting between\\xa0President Trump, House Minority Leader Nancy Pelosi and Senate Minority Leader Chuck Schumer was\\xa0“very candid.\"\\xa0 Pence described the overall meeting as a “good discussion” and said that “it went on quite a while after” the cameras left.\\xa0\\xa0 He spoke with reporters briefly as he entered a lunch with Senate Republicans.\\xa0   Reporters just asked Senate Minority Leader Chuck Schumer what he thought of the extraordinary meeting with President Trump.  \"I think the President showed what he really thinks.\\xa0He wants to shut down the government,\" Schumer said. Asked if Schumer was expecting that reality TV atmosphere, he said no, \"We were not expecting it.”  A lot was said during the tense meeting between President Donald Trump, House Minority Leader Nancy Pelosi and Senate Minority Leader Chuck Schumer, which was broadcast moments ago on CNN.  But one man said nothing at all. Vice President Mike Pence didn\\'t say a thing. In fact, he barely shifted his position in the high-backed chair seated next to President Trump. But that silence won\\'t last forever -- if there would ever be a tie in the Senate, Pence will have to speak.     House Minority Leader Nancy Pelosi, speaking to reporters, explained how she tried to convince President Trump to keep the government open and avoid a shutdown. She said she told Trump that the new House of Representatives would pass six appropriations bills and have a\\xa0continuing resolution until the end of next September. Watch it here:   From CNN\\'s Jeremy Diamond Senate Minority Leader Chuck Schumer warned Tuesday in front of the White House that there will be a government shutdown if President Donald Trump refuses to budge from his demand for $5 billion of wall funding. He spoke after the tense meeting with President Trump. Schumer insisted that Democrats \"have offered\" border security funding and warned of what he and Pelosi have termed a \"Trump shutdown.\" \"This Trump shutdown, this temper tantrum that he seems to throw, will not get him his wall and will hurt a lot of people,\" Schumer said. Watch more:    Aides never expected this meeting to go smoothly — they just didn\\'t think the public would see it, CNN\\'s Phil Mattingly explained moments after it aired. \"This was entirely predictable. In talking to aides really involved in these negotiations directly over the course of the last 12 to 15 hours, they expected something like this. They just expected it to happen behind the scenes,\" Mattingly said. No one expected this to \"be a meeting where a deal was made,\" Mattingly said. Instead, it was a place for parties to \"put their stakes in the ground.\" \"These types of meetings, these types of break downs, these types of very public impasses need to occur before people settle down and actually start trying to make a deal,\" he added. One key thing to note: The Democrats may walk away with a key sound bite.  Here\\'s how Mattingly explained it: For Democrats the takeaway may be \"the President saying flatly, despite what Republicans said repeatedly, \\'If there is a shut down, I will take the mantle. If there is a shut down, it is my shut down.\\' That is what Democrats want ... That\\'s what you are going to see on repeat over the next couple of days.\" So what happens now? There\\'s still 11 days ahead of the government shutdown. That\\'s still plenty of time for a deal. Watch more from Mattingly:    President Trump, in a testy exchange with Democratic leaders Nancy Pelosi and Chuck Schumer in the Oval Office, told them, “I am proud to shut down the government for border security.\" Here\\'s the full exchange: Schumer: \"One thing I think we can agree on is we shouldn\\'t shut down the government over a dispute. You want to shut it down.\" Trump: \"The last time you shut it down.\" Schumer: \"No. 20 times you called for, \\'I will shut down the government if I don\\'t get my wall.\\' You said it. You said it.\" Trump: \"You know what I will say? Yes. If we don\\'t get what we want through you or through military or anyone you want to call, I will shut down the government.\" Schumer: \"We disagree.\" Trump: \"I am proud to shut down the government for border security, Chuck. The people of this country don\\'t\\xa0want criminals and people that have lots of problems and drugs pouring into our country. I will take the mantle. I will be the one to shut it down. I\\'m not going to blame you for it The last time you shut it down it didn\\'t work. I will take the mantle for shutting down. I\\'m going to shut it down for border security.\\xa0 Schumer: \"But we believe you shouldn\\'t shut it down.\" See it:   Follow CNN politics Please enable JavaScript for a better experience.'"
      ]
     },
     "execution_count": 76,
     "metadata": {},
     "output_type": "execute_result"
    }
   ],
   "source": [
    "text = ' '.join(paragraph)\n",
    "text"
   ]
  },
  {
   "cell_type": "code",
   "execution_count": 77,
   "metadata": {},
   "outputs": [],
   "source": [
    "#blob = TextBlob(text)\n",
    "#blob"
   ]
  },
  {
   "cell_type": "code",
   "execution_count": 78,
   "metadata": {},
   "outputs": [],
   "source": [
    "totalwords = len(text.split())"
   ]
  },
  {
   "cell_type": "code",
   "execution_count": 79,
   "metadata": {},
   "outputs": [
    {
     "name": "stdout",
     "output_type": "stream",
     "text": [
      "7.361538461538461\n"
     ]
    }
   ],
   "source": [
    "readingtime = totalwords/130\n",
    "print(readingtime)"
   ]
  },
  {
   "cell_type": "code",
   "execution_count": 80,
   "metadata": {},
   "outputs": [
    {
     "name": "stdout",
     "output_type": "stream",
     "text": [
      "It will take you 7.4 minutes to read this\n",
      "How many minutes do you have to read this? 2\n"
     ]
    }
   ],
   "source": [
    "print(\"It will take you %.1f minutes to read this\" %readingtime )\n",
    "minutes = float(input(\"How many minutes do you have to read this? \"))"
   ]
  },
  {
   "cell_type": "code",
   "execution_count": 81,
   "metadata": {},
   "outputs": [
    {
     "name": "stdout",
     "output_type": "stream",
     "text": [
      "260.0\n"
     ]
    }
   ],
   "source": [
    "words = minutes*130\n",
    "print(words)"
   ]
  },
  {
   "cell_type": "code",
   "execution_count": null,
   "metadata": {},
   "outputs": [],
   "source": [
    "#import logging\n",
    "#logging.basicConfig(format='%(asctime)s : %(levelname)s : %(message)s', level=logging.INFO)\n",
    "\n",
    "#from gensim.summarization import summarize"
   ]
  },
  {
   "cell_type": "code",
   "execution_count": 82,
   "metadata": {},
   "outputs": [
    {
     "name": "stdout",
     "output_type": "stream",
     "text": [
      "Summary:\n",
      "From CNN's Betsy Klein   White House press secretary Sarah Sanders just released a readout of the meeting between President Trump and Democratic leaders Nancy Pelosi and Chuck Schumer.\n",
      "Here's the full statement: From CNN's Ted Barrett  Vice President Mike Pence told CNN the atmosphere in the closed portion of the meeting between President Trump, House Minority Leader Nancy Pelosi and Senate Minority Leader Chuck Schumer was “very candid.\"  Pence described the overall meeting as a “good discussion” and said that “it went on quite a while after” the cameras left.\n",
      "Asked if Schumer was expecting that reality TV atmosphere, he said no, \"We were not expecting it.”  A lot was said during the tense meeting between President Donald Trump, House Minority Leader Nancy Pelosi and Senate Minority Leader Chuck Schumer, which was broadcast moments ago on CNN.\n",
      "Watch it here:   From CNN's Jeremy Diamond Senate Minority Leader Chuck Schumer warned Tuesday in front of the White House that there will be a government shutdown if President Donald Trump refuses to budge from his demand for $5 billion of wall funding.\n",
      "Watch more from Mattingly:    President Trump, in a testy exchange with Democratic leaders Nancy Pelosi and Chuck Schumer in the Oval Office, told them, “I am proud to shut down the government for border security.\" Here's the full exchange: Schumer: \"One thing I think we can agree on is we shouldn't shut down the government over a dispute.\n",
      "You want to shut it down.\" Trump: \"The last time you shut it down.\" Schumer: \"No. 20 times you called for, 'I will shut down the government if I don't get my wall.' You said it.\n"
     ]
    }
   ],
   "source": [
    "print('Summary:') \n",
    "sumtext= summarize(text, words = words)\n",
    "print (sumtext)"
   ]
  },
  {
   "cell_type": "code",
   "execution_count": 83,
   "metadata": {},
   "outputs": [
    {
     "name": "stdout",
     "output_type": "stream",
     "text": [
      "274\n"
     ]
    }
   ],
   "source": [
    "totalsumwords= len(sumtext.split())\n",
    "print(totalsumwords)"
   ]
  },
  {
   "cell_type": "code",
   "execution_count": null,
   "metadata": {},
   "outputs": [],
   "source": [
    "#i saved you _ mins "
   ]
  },
  {
   "cell_type": "code",
   "execution_count": null,
   "metadata": {},
   "outputs": [],
   "source": [
    "#from gensim.summarization import keywords\n",
    "#keywords(text)"
   ]
  }
 ],
 "metadata": {
  "kernelspec": {
   "display_name": "Python 3",
   "language": "python",
   "name": "python3"
  },
  "language_info": {
   "codemirror_mode": {
    "name": "ipython",
    "version": 3
   },
   "file_extension": ".py",
   "mimetype": "text/x-python",
   "name": "python",
   "nbconvert_exporter": "python",
   "pygments_lexer": "ipython3",
   "version": "3.6.6"
  }
 },
 "nbformat": 4,
 "nbformat_minor": 2
}
