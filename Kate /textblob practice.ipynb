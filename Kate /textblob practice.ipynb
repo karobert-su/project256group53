{
 "cells": [
  {
   "cell_type": "code",
   "execution_count": 2,
   "metadata": {},
   "outputs": [],
   "source": [
    "from textblob import TextBlob"
   ]
  },
  {
   "cell_type": "code",
   "execution_count": 144,
   "metadata": {},
   "outputs": [
    {
     "name": "stderr",
     "output_type": "stream",
     "text": [
      "[nltk_data] Downloading package punkt to\n",
      "[nltk_data]     /Users/katierobertson/nltk_data...\n",
      "[nltk_data]   Package punkt is already up-to-date!\n",
      "[nltk_data] Downloading package averaged_perceptron_tagger to\n",
      "[nltk_data]     /Users/katierobertson/nltk_data...\n",
      "[nltk_data]   Package averaged_perceptron_tagger is already up-to-\n",
      "[nltk_data]       date!\n",
      "[nltk_data] Downloading package brown to\n",
      "[nltk_data]     /Users/katierobertson/nltk_data...\n",
      "[nltk_data]   Package brown is already up-to-date!\n"
     ]
    },
    {
     "data": {
      "text/plain": [
       "True"
      ]
     },
     "execution_count": 144,
     "metadata": {},
     "output_type": "execute_result"
    }
   ],
   "source": [
    "import nltk\n",
    "nltk.download('punkt')\n",
    "\n",
    "import nltk\n",
    "nltk.download('averaged_perceptron_tagger')\n",
    "  \n",
    "import nltk\n",
    "nltk.download('brown')\n",
    "  "
   ]
  },
  {
   "cell_type": "code",
   "execution_count": 145,
   "metadata": {},
   "outputs": [
    {
     "data": {
      "text/plain": [
       "'While the dir function lists the methods, and you can use help to get some simple documentation on a method, a better source of documentation for string methods would be https://docs.python.org/3.5/library/stdtypes.html#string-methods.\\n\\nCalling a method is similar to calling a function (it takes arguments and returns a value) but the syntax is different. We call a method by appending the method name to the variable name using the period as a delimiter.\\n\\nFor example, the method upper takes a string and returns a new string with all uppercase letters:\\n\\nInstead of the function syntax upper(word), it uses the method syntax word.upper().'"
      ]
     },
     "execution_count": 145,
     "metadata": {},
     "output_type": "execute_result"
    }
   ],
   "source": [
    "search = \"method\"\n",
    "with open (\"ch6.txt\") as f:\n",
    "    text = f.read ()\n",
    "    \n",
    "text"
   ]
  },
  {
   "cell_type": "code",
   "execution_count": 146,
   "metadata": {},
   "outputs": [
    {
     "data": {
      "text/plain": [
       "defaultdict(int,\n",
       "            {'while': 1,\n",
       "             'the': 9,\n",
       "             'dir': 1,\n",
       "             'function': 3,\n",
       "             'lists': 1,\n",
       "             'methods': 2,\n",
       "             'and': 3,\n",
       "             'you': 1,\n",
       "             'can': 1,\n",
       "             'use': 1,\n",
       "             'help': 1,\n",
       "             'to': 3,\n",
       "             'get': 1,\n",
       "             'some': 1,\n",
       "             'simple': 1,\n",
       "             'documentation': 2,\n",
       "             'on': 1,\n",
       "             'a': 9,\n",
       "             'method': 6,\n",
       "             'better': 1,\n",
       "             'source': 1,\n",
       "             'of': 2,\n",
       "             'for': 2,\n",
       "             'string': 3,\n",
       "             'would': 1,\n",
       "             'be': 1,\n",
       "             'https': 1,\n",
       "             'docs.python.org/3.5/library/stdtypes.html': 1,\n",
       "             'string-methods': 1,\n",
       "             'calling': 2,\n",
       "             'is': 2,\n",
       "             'similar': 1,\n",
       "             'it': 2,\n",
       "             'takes': 2,\n",
       "             'arguments': 1,\n",
       "             'returns': 2,\n",
       "             'value': 1,\n",
       "             'but': 1,\n",
       "             'syntax': 3,\n",
       "             'different': 1,\n",
       "             'we': 1,\n",
       "             'call': 1,\n",
       "             'by': 1,\n",
       "             'appending': 1,\n",
       "             'name': 2,\n",
       "             'variable': 1,\n",
       "             'using': 1,\n",
       "             'period': 1,\n",
       "             'as': 1,\n",
       "             'delimiter': 1,\n",
       "             'example': 1,\n",
       "             'upper': 2,\n",
       "             'new': 1,\n",
       "             'with': 1,\n",
       "             'all': 1,\n",
       "             'uppercase': 1,\n",
       "             'letters': 1,\n",
       "             'instead': 1,\n",
       "             'word': 1,\n",
       "             'uses': 1,\n",
       "             'word.upper': 1})"
      ]
     },
     "execution_count": 146,
     "metadata": {},
     "output_type": "execute_result"
    }
   ],
   "source": [
    "blob = TextBlob(text)\n",
    "wordcount = blob.word_counts\n",
    "blob.word_counts"
   ]
  },
  {
   "cell_type": "code",
   "execution_count": 147,
   "metadata": {},
   "outputs": [
    {
     "data": {
      "text/plain": [
       "[('While', 'IN'),\n",
       " ('the', 'DT'),\n",
       " ('dir', 'JJ'),\n",
       " ('function', 'NN'),\n",
       " ('lists', 'VBZ'),\n",
       " ('the', 'DT'),\n",
       " ('methods', 'NNS'),\n",
       " ('and', 'CC'),\n",
       " ('you', 'PRP'),\n",
       " ('can', 'MD'),\n",
       " ('use', 'VB'),\n",
       " ('help', 'NN'),\n",
       " ('to', 'TO'),\n",
       " ('get', 'VB'),\n",
       " ('some', 'DT'),\n",
       " ('simple', 'JJ'),\n",
       " ('documentation', 'NN'),\n",
       " ('on', 'IN'),\n",
       " ('a', 'DT'),\n",
       " ('method', 'NN'),\n",
       " ('a', 'DT'),\n",
       " ('better', 'JJR'),\n",
       " ('source', 'NN'),\n",
       " ('of', 'IN'),\n",
       " ('documentation', 'NN'),\n",
       " ('for', 'IN'),\n",
       " ('string', 'VBG'),\n",
       " ('methods', 'NNS'),\n",
       " ('would', 'MD'),\n",
       " ('be', 'VB'),\n",
       " ('https', 'VBN'),\n",
       " ('//docs.python.org/3.5/library/stdtypes.html', 'JJ'),\n",
       " ('string-methods', 'NNS'),\n",
       " ('Calling', 'VBG'),\n",
       " ('a', 'DT'),\n",
       " ('method', 'NN'),\n",
       " ('is', 'VBZ'),\n",
       " ('similar', 'JJ'),\n",
       " ('to', 'TO'),\n",
       " ('calling', 'VBG'),\n",
       " ('a', 'DT'),\n",
       " ('function', 'NN'),\n",
       " ('it', 'PRP'),\n",
       " ('takes', 'VBZ'),\n",
       " ('arguments', 'NNS'),\n",
       " ('and', 'CC'),\n",
       " ('returns', 'VBZ'),\n",
       " ('a', 'DT'),\n",
       " ('value', 'NN'),\n",
       " ('but', 'CC'),\n",
       " ('the', 'DT'),\n",
       " ('syntax', 'NN'),\n",
       " ('is', 'VBZ'),\n",
       " ('different', 'JJ'),\n",
       " ('We', 'PRP'),\n",
       " ('call', 'VBP'),\n",
       " ('a', 'DT'),\n",
       " ('method', 'NN'),\n",
       " ('by', 'IN'),\n",
       " ('appending', 'VBG'),\n",
       " ('the', 'DT'),\n",
       " ('method', 'NN'),\n",
       " ('name', 'NN'),\n",
       " ('to', 'TO'),\n",
       " ('the', 'DT'),\n",
       " ('variable', 'JJ'),\n",
       " ('name', 'NN'),\n",
       " ('using', 'VBG'),\n",
       " ('the', 'DT'),\n",
       " ('period', 'NN'),\n",
       " ('as', 'IN'),\n",
       " ('a', 'DT'),\n",
       " ('delimiter', 'NN'),\n",
       " ('For', 'IN'),\n",
       " ('example', 'NN'),\n",
       " ('the', 'DT'),\n",
       " ('method', 'NN'),\n",
       " ('upper', 'JJ'),\n",
       " ('takes', 'VBZ'),\n",
       " ('a', 'DT'),\n",
       " ('string', 'NN'),\n",
       " ('and', 'CC'),\n",
       " ('returns', 'VBZ'),\n",
       " ('a', 'DT'),\n",
       " ('new', 'JJ'),\n",
       " ('string', 'NN'),\n",
       " ('with', 'IN'),\n",
       " ('all', 'DT'),\n",
       " ('uppercase', 'JJ'),\n",
       " ('letters', 'NNS'),\n",
       " ('Instead', 'RB'),\n",
       " ('of', 'IN'),\n",
       " ('the', 'DT'),\n",
       " ('function', 'NN'),\n",
       " ('syntax', 'NN'),\n",
       " ('upper', 'NN'),\n",
       " ('word', 'NN'),\n",
       " ('it', 'PRP'),\n",
       " ('uses', 'VBZ'),\n",
       " ('the', 'DT'),\n",
       " ('method', 'NN'),\n",
       " ('syntax', 'NN'),\n",
       " ('word.upper', 'NN')]"
      ]
     },
     "execution_count": 147,
     "metadata": {},
     "output_type": "execute_result"
    }
   ],
   "source": [
    "blob.tags"
   ]
  },
  {
   "cell_type": "code",
   "execution_count": 154,
   "metadata": {},
   "outputs": [
    {
     "data": {
      "text/plain": [
       "WordList(['dir function', 'simple documentation', 'string methods', '//docs.python.org/3.5/library/stdtypes.html # string-methods', 'method name', 'variable name', 'new string', 'uppercase letters', 'function syntax', 'method syntax word.upper'])"
      ]
     },
     "execution_count": 154,
     "metadata": {},
     "output_type": "execute_result"
    }
   ],
   "source": [
    "blob.noun_phrases\n"
   ]
  },
  {
   "cell_type": "code",
   "execution_count": 149,
   "metadata": {},
   "outputs": [
    {
     "data": {
      "text/plain": [
       "('While', 'IN')"
      ]
     },
     "execution_count": 149,
     "metadata": {},
     "output_type": "execute_result"
    }
   ],
   "source": [
    "blob.tags[0]"
   ]
  },
  {
   "cell_type": "code",
   "execution_count": null,
   "metadata": {},
   "outputs": [],
   "source": []
  },
  {
   "cell_type": "code",
   "execution_count": null,
   "metadata": {},
   "outputs": [],
   "source": []
  },
  {
   "cell_type": "code",
   "execution_count": 150,
   "metadata": {},
   "outputs": [
    {
     "ename": "SyntaxError",
     "evalue": "invalid syntax (<ipython-input-150-d4fa9edd1e93>, line 1)",
     "output_type": "error",
     "traceback": [
      "\u001b[0;36m  File \u001b[0;32m\"<ipython-input-150-d4fa9edd1e93>\"\u001b[0;36m, line \u001b[0;32m1\u001b[0m\n\u001b[0;31m    while blog.tags\u001b[0m\n\u001b[0m                   ^\u001b[0m\n\u001b[0;31mSyntaxError\u001b[0m\u001b[0;31m:\u001b[0m invalid syntax\n"
     ]
    }
   ],
   "source": []
  },
  {
   "cell_type": "code",
   "execution_count": 151,
   "metadata": {},
   "outputs": [
    {
     "ename": "IndexError",
     "evalue": "list index out of range",
     "output_type": "error",
     "traceback": [
      "\u001b[0;31m---------------------------------------------------------------------------\u001b[0m",
      "\u001b[0;31mIndexError\u001b[0m                                Traceback (most recent call last)",
      "\u001b[0;32m<ipython-input-151-08538c3eadc2>\u001b[0m in \u001b[0;36m<module>\u001b[0;34m()\u001b[0m\n\u001b[1;32m      2\u001b[0m \u001b[0;32mwhile\u001b[0m \u001b[0mcount\u001b[0m \u001b[0;34m>=\u001b[0m \u001b[0;36m0\u001b[0m\u001b[0;34m:\u001b[0m\u001b[0;34m\u001b[0m\u001b[0m\n\u001b[1;32m      3\u001b[0m     \u001b[0mcount\u001b[0m \u001b[0;34m=\u001b[0m \u001b[0mcount\u001b[0m \u001b[0;34m+\u001b[0m \u001b[0;36m1\u001b[0m\u001b[0;34m\u001b[0m\u001b[0m\n\u001b[0;32m----> 4\u001b[0;31m     \u001b[0;32mif\u001b[0m \u001b[0mblob\u001b[0m\u001b[0;34m.\u001b[0m\u001b[0mtags\u001b[0m\u001b[0;34m[\u001b[0m\u001b[0mcount\u001b[0m\u001b[0;34m]\u001b[0m \u001b[0;34m==\u001b[0m \u001b[0;34m\"NN\"\u001b[0m\u001b[0;34m:\u001b[0m\u001b[0;34m\u001b[0m\u001b[0m\n\u001b[0m\u001b[1;32m      5\u001b[0m         \u001b[0mprint\u001b[0m\u001b[0;34m(\u001b[0m\u001b[0mblob\u001b[0m\u001b[0;34m.\u001b[0m\u001b[0mtags\u001b[0m\u001b[0;34m[\u001b[0m\u001b[0mcount\u001b[0m\u001b[0;34m]\u001b[0m\u001b[0;34m)\u001b[0m\u001b[0;34m\u001b[0m\u001b[0m\n\u001b[1;32m      6\u001b[0m \u001b[0;34m\u001b[0m\u001b[0m\n",
      "\u001b[0;31mIndexError\u001b[0m: list index out of range"
     ]
    }
   ],
   "source": [
    "\n",
    "while count >= 0:\n",
    "    count = count + 1\n",
    "    if blob.tags[count] == \"NN\":\n",
    "        print(blob.tags[count])\n",
    "\n",
    "   \n",
    "    #print (blob.tags[1])\n",
    "\n",
    "#if blob.tags[3][1] == \"NN\": \n",
    "    #print(blob.tags[3][0])\n",
    "\n",
    "\n",
    "#if blob.tags[1] == 'NN':\n",
    "   "
   ]
  },
  {
   "cell_type": "code",
   "execution_count": null,
   "metadata": {},
   "outputs": [],
   "source": []
  },
  {
   "cell_type": "code",
   "execution_count": null,
   "metadata": {},
   "outputs": [],
   "source": []
  }
 ],
 "metadata": {
  "kernelspec": {
   "display_name": "Python 3",
   "language": "python",
   "name": "python3"
  },
  "language_info": {
   "codemirror_mode": {
    "name": "ipython",
    "version": 3
   },
   "file_extension": ".py",
   "mimetype": "text/x-python",
   "name": "python",
   "nbconvert_exporter": "python",
   "pygments_lexer": "ipython3",
   "version": "3.6.6"
  }
 },
 "nbformat": 4,
 "nbformat_minor": 2
}
