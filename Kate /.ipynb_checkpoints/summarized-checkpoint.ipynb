{
 "cells": [
  {
   "cell_type": "code",
   "execution_count": null,
   "metadata": {},
   "outputs": [],
   "source": [
    "#Project Examples "
   ]
  },
  {
   "cell_type": "code",
   "execution_count": null,
   "metadata": {},
   "outputs": [],
   "source": []
  },
  {
   "cell_type": "code",
   "execution_count": 34,
   "metadata": {},
   "outputs": [
    {
     "data": {
      "text/plain": [
       "\"\\nin terminal\\nLast login: Mon Dec  3 13:11:01 on ttys001\\nKaties-MacBook-Pro:~ katierobertson$ pip3 install --upgrade beautifulsoup4\\nRequirement already up-to-date: beautifulsoup4 in /Library/Frameworks/Python.framework/Versions/3.6/lib/python3.6/site-packages (4.6.3)\\nYou are using pip version 18.0, however version 18.1 is available.\\nYou should consider upgrading via the 'pip install --upgrade pip' command.\\nKaties-MacBook-Pro:~ katierobertson$ pip3 install --upgrade beautifulsoup4\\n\""
      ]
     },
     "execution_count": 34,
     "metadata": {},
     "output_type": "execute_result"
    }
   ],
   "source": [
    "'''\n",
    "in terminal\n",
    "Last login: Mon Dec  3 13:11:01 on ttys001\n",
    "Katies-MacBook-Pro:~ katierobertson$ pip3 install --upgrade beautifulsoup4\n",
    "Requirement already up-to-date: beautifulsoup4 in /Library/Frameworks/Python.framework/Versions/3.6/lib/python3.6/site-packages (4.6.3)\n",
    "You are using pip version 18.0, however version 18.1 is available.\n",
    "You should consider upgrading via the 'pip install --upgrade pip' command.\n",
    "Katies-MacBook-Pro:~ katierobertson$ pip3 install --upgrade beautifulsoup4\n",
    "'''"
   ]
  },
  {
   "cell_type": "code",
   "execution_count": 4,
   "metadata": {},
   "outputs": [
    {
     "name": "stdout",
     "output_type": "stream",
     "text": [
      "Requirement already up-to-date: textblob in /Library/Frameworks/Python.framework/Versions/3.6/lib/python3.6/site-packages (0.15.2)\n",
      "Requirement already satisfied, skipping upgrade: nltk>=3.1 in /Library/Frameworks/Python.framework/Versions/3.6/lib/python3.6/site-packages (from textblob) (3.4)\n",
      "Requirement already satisfied, skipping upgrade: six in /Library/Frameworks/Python.framework/Versions/3.6/lib/python3.6/site-packages (from nltk>=3.1->textblob) (1.11.0)\n",
      "Requirement already satisfied, skipping upgrade: singledispatch in /Library/Frameworks/Python.framework/Versions/3.6/lib/python3.6/site-packages (from nltk>=3.1->textblob) (3.4.0.3)\n",
      "\u001b[33mYou are using pip version 18.0, however version 18.1 is available.\n",
      "You should consider upgrading via the 'pip install --upgrade pip' command.\u001b[0m\n",
      "/usr/bin/python: No module named textblob\n"
     ]
    }
   ],
   "source": [
    "! pip3 install --upgrade textblob\n",
    "! python -m textblob.download_corpora\n"
   ]
  },
  {
   "cell_type": "code",
   "execution_count": 5,
   "metadata": {},
   "outputs": [],
   "source": [
    "import requests\n",
    "from bs4 import BeautifulSoup\n"
   ]
  },
  {
   "cell_type": "code",
   "execution_count": 6,
   "metadata": {},
   "outputs": [],
   "source": [
    "from textblob import TextBlob\n"
   ]
  },
  {
   "cell_type": "code",
   "execution_count": 7,
   "metadata": {},
   "outputs": [
    {
     "name": "stdout",
     "output_type": "stream",
     "text": [
      "Please enter your URL to your text: https://books.trinket.io/pfe/06-strings.html\n"
     ]
    }
   ],
   "source": [
    "url = input(\"Please enter your URL to your text: \")\n",
    "#https://books.trinket.io/pfe/06-strings.html"
   ]
  },
  {
   "cell_type": "code",
   "execution_count": 8,
   "metadata": {},
   "outputs": [],
   "source": [
    "#gathers whole textbook\n",
    "response = requests.get(url)\n",
    "html = response.text\n",
    "#print(html)"
   ]
  },
  {
   "cell_type": "code",
   "execution_count": 9,
   "metadata": {},
   "outputs": [],
   "source": [
    "soup = BeautifulSoup(html)\n",
    "\n",
    "#print(soup.html)\n"
   ]
  },
  {
   "cell_type": "code",
   "execution_count": 23,
   "metadata": {},
   "outputs": [
    {
     "data": {
      "text/plain": [
       "[' ',\n",
       " 'A string is a sequence of characters. You can access the characters one at a time with the bracket operator:',\n",
       " ' ',\n",
       " 'The second statement extracts the character at index position 1 from the fruit variable and assigns it to the letter variable.',\n",
       " 'The expression in brackets is called an index. The index indicates which character in the sequence you want (hence the name).',\n",
       " 'But you might not get what you expect:',\n",
       " 'For most people, the first letter of \"banana\" is b, not a. But in Python, the index is an offset from the beginning of the string, and the offset of the first letter is zero.',\n",
       " 'So b is the 0th letter (\"zero-eth\") of \"banana\", a is the 1th letter (\"one-eth\"), and n is the 2th (\"two-eth\") letter.',\n",
       " 'String Indexes',\n",
       " ' ',\n",
       " 'You can use any expression, including variables and operators, as an index, but the value of the index has to be an integer. Otherwise you get:',\n",
       " ' ',\n",
       " ' ',\n",
       " 'len is a built-in function that returns the number of characters in a string:',\n",
       " 'To get the last letter of a string, you might be tempted to try something like this:',\n",
       " ' ',\n",
       " \"The reason for the IndexError is that there is no letter in 'banana' with the index 6. Since we started counting at zero, the six letters are numbered 0 to 5. To get the last character, you have to subtract 1 from length:\",\n",
       " 'Alternatively, you can use negative indices, which count backward from the end of the string. The expression fruit[-1] yields the last letter, fruit[-2] yields the second to last, and so on.',\n",
       " ' ',\n",
       " ' ',\n",
       " 'A lot of computations involve processing a string one character at a time. Often they start at the beginning, select each character in turn, do something to it, and continue until the end. This pattern of processing is called a traversal. One way to write a traversal is with a while loop:',\n",
       " 'This loop traverses the string and displays each letter on a line by itself. The loop condition is index \\\\< len(fruit), so when index is equal to the length of the string, the condition is false, and the body of the loop is not executed. The last character accessed is the one with the index len(fruit)-1, which is the last character in the string.',\n",
       " 'Exercise 1: Write a while loop that starts at the last character in the string and works its way backwards to the first character in the string, printing each letter on a separate line, except backwards.',\n",
       " 'Another way to write a traversal is with a for loop:',\n",
       " 'Each time through the loop, the next character in the string is assigned to the variable char. The loop continues until no characters are left.',\n",
       " ' ',\n",
       " 'A segment of a string is called a slice. Selecting a slice is similar to selecting a character:',\n",
       " 'The operator returns the part of the string from the \"n-eth\" character to the \"m-eth\" character, including the first but excluding the last.',\n",
       " 'If you omit the first index (before the colon), the slice starts at the beginning of the string. If you omit the second index, the slice goes to the end of the string:',\n",
       " 'If the first index is greater than or equal to the second the result is an empty string, represented by two quotation marks:',\n",
       " '',\n",
       " 'An empty string contains no characters and has length 0, but other than that, it is the same as any other string.',\n",
       " 'Exercise 2: Given that fruit is a string, what does fruit[:] mean?',\n",
       " ' ',\n",
       " ' ',\n",
       " 'It is tempting to use the operator on the left side of an assignment, with the intention of changing a character in a string. For example:',\n",
       " ' ',\n",
       " 'The \"object\" in this case is the string and the \"item\" is the character you tried to assign. For now, an object is the same thing as a value, but we will refine that definition later. An item is one of the values in a sequence.',\n",
       " ' ',\n",
       " \"The reason for the error is that strings are immutable, which means you can't change an existing string. The best you can do is create a new string that is a variation on the original:\",\n",
       " 'This example concatenates a new first letter onto a slice of greeting. It has no effect on the original string.',\n",
       " '',\n",
       " ' ',\n",
       " 'The following program counts the number of times the letter a appears in a string:',\n",
       " \"This program demonstrates another pattern of computation called a counter. The variable count is initialized to 0 and then incremented each time an a is found. When the loop exits, count contains the result: the total number of a's.\",\n",
       " 'Exercise 3:',\n",
       " '',\n",
       " 'Encapsulate this code in a function named count, and generalize it so that it accepts the string and the letter as arguments.',\n",
       " ' ',\n",
       " 'The word in is a boolean operator that takes two strings and returns True if the first appears as a substring in the second:',\n",
       " ' ',\n",
       " 'The comparison operators work on strings. To see if two strings are equal:',\n",
       " 'Other comparison operations are useful for putting words in alphabetical order:',\n",
       " 'Python does not handle uppercase and lowercase letters the same way that people do. All the uppercase letters come before all the lowercase letters, so:',\n",
       " 'A common way to address this problem is to convert strings to a standard format, such as all lowercase, before performing the comparison. Keep that in mind in case you have to defend yourself against a man armed with a Pineapple.',\n",
       " 'Strings are an example of Python objects. An object contains both data (the actual string itself) and methods, which are effectively functions that are built into the object and are available to any instance of the object.',\n",
       " 'Python has a function called dir which lists the methods available for an object. The type function shows the type of an object and the dir function shows the available methods.',\n",
       " 'While the dir function lists the methods, and you can use help to get some simple documentation on a method, a better source of documentation for string methods would be https://docs.python.org/3.5/library/stdtypes.html#string-methods.',\n",
       " 'Calling a method is similar to calling a function (it takes arguments and returns a value) but the syntax is different. We call a method by appending the method name to the variable name using the period as a delimiter.',\n",
       " 'For example, the method upper takes a string and returns a new string with all uppercase letters:',\n",
       " ' ',\n",
       " 'Instead of the function syntax upper(word), it uses the method syntax word.upper().',\n",
       " '',\n",
       " 'This form of dot notation specifies the name of the method, upper, and the name of the string to apply the method to, word. The empty parentheses indicate that this method takes no argument.',\n",
       " '',\n",
       " 'A method call is called an invocation; in this case, we would say that we are invoking upper on the word.',\n",
       " '',\n",
       " 'For example, there is a string method named find that searches for the position of one string within another:',\n",
       " 'In this example, we invoke find on word and pass the letter we are looking for as a parameter.',\n",
       " 'The find method can find substrings as well as characters:',\n",
       " 'It can take as a second argument the index where it should start:',\n",
       " ' ',\n",
       " 'One common task is to remove white space (spaces, tabs, or newlines) from the beginning and end of a string using the strip method:',\n",
       " 'Some methods such as startswith return boolean values.',\n",
       " 'You will note that startswith requires case to match, so sometimes we take a line and map it all to lowercase before we do any checking using the lower method.',\n",
       " 'In the last example, the method lower is called and then we use startswith to see if the resulting lowercase string starts with the letter \"h\". As long as we are careful with the order, we can make multiple method calls in a single expression.',\n",
       " 'Exercise 4:',\n",
       " ' ',\n",
       " 'There is a string method called count that is similar to the function in the previous exercise. Read the documentation of this method at https://docs.python.org/3.5/library/stdtypes.html#string-methods and write an invocation that counts the number of times the letter a occurs in \"banana\".',\n",
       " 'Often, we want to look into a string and find a substring. For example if we were presented a series of lines formatted as follows:',\n",
       " 'From\\xa0stephen.marquard@\\xa0uct.ac.za\\xa0Sat\\xa0Jan\\xa0\\xa05\\xa009:14:16\\xa02008',\n",
       " 'and we wanted to pull out only the second half of the address (i.e., uct.ac.za) from each line, we can do this by using the find method and string slicing.',\n",
       " 'First, we will find the position of the at-sign in the string. Then we will find the position of the first space after the at-sign. And then we will use string slicing to extract the portion of the string which we are looking for.',\n",
       " 'We use a version of the find method which allows us to specify a position in the string where we want find to start looking. When we slice, we extract the characters from \"one beyond the at-sign through up to but not including the space character\".',\n",
       " 'The documentation for the find method is available at',\n",
       " 'https://docs.python.org/3.5/library/stdtypes.html#string-methods.',\n",
       " ' ',\n",
       " 'The format operator, % allows us to construct strings, replacing parts of the strings with the data stored in variables. When applied to integers, % is the modulus operator. But when the first operand is a string, % is the format operator.',\n",
       " '',\n",
       " 'The first operand is the format string, which contains one or more format sequences that specify how the second operand is formatted. The result is a string.',\n",
       " '',\n",
       " 'For example, the format sequence \"%d\" means that the second operand should be formatted as an integer (d stands for \"decimal\"):',\n",
       " 'The result is the string \"42\", which is not to be confused with the integer value 42.',\n",
       " 'A format sequence can appear anywhere in the string, so you can embed a value in a sentence:',\n",
       " 'If there is more than one format sequence in the string, the second argument has to be a tuple1. Each format sequence is matched with an element of the tuple, in order.',\n",
       " 'The following example uses \"%d\" to format an integer, \"%g\" to format a floating-point number (don\\'t ask why), and \"%s\" to format a string:',\n",
       " 'The number of elements in the tuple must match the number of format sequences in the string. The types of the elements also must match the format sequences:',\n",
       " ' ',\n",
       " \"In the first example, there aren't enough elements; in the second, the element is the wrong type.\",\n",
       " 'The format operator is powerful, but it can be difficult to use. You can read more about it at',\n",
       " 'https://docs.python.org/3.5/library/stdtypes.html#printf-style-string-formatting.',\n",
       " '',\n",
       " 'A skill that you should cultivate as you program is always asking yourself, \"What could go wrong here?\" or alternatively, \"What crazy thing might our user do to crash our (seemingly) perfect program?\"',\n",
       " 'For example, look at the program which we used to demonstrate the while loop in the chapter on iteration:',\n",
       " 'Look what happens when the user enters an empty line of input:',\n",
       " 'The code works fine until it is presented an empty line. Then there is no zero-th character, so we get a traceback. There are two solutions to this to make line three \"safe\" even if the line is empty.',\n",
       " 'One possibility is to simply use the startswith method which returns False if the string is empty.',\n",
       " ' ',\n",
       " 'Another way is to safely write the if statement using the guardian pattern and make sure the second logical expression is evaluated only where there is at least one character in the string.:',\n",
       " '',\n",
       " '',\n",
       " ' ',\n",
       " '',\n",
       " '',\n",
       " '',\n",
       " '',\n",
       " '',\n",
       " ' ',\n",
       " '',\n",
       " '',\n",
       " '',\n",
       " ' ',\n",
       " '',\n",
       " '',\n",
       " '',\n",
       " 'Exercise 5: Take the following Python code that stores a string:`',\n",
       " \"str = 'X-DSPAM-Confidence:0.8475'\",\n",
       " 'Use find and string slicing to extract the portion of the string after the colon character and then use the float function to convert the extracted string into a floating point number.',\n",
       " 'Exercise 6:',\n",
       " ' ',\n",
       " 'Read the documentation of the string methods at',\n",
       " 'https://docs.python.org/3.5/library/stdtypes.html#string-methods',\n",
       " 'You might want to experiment with some of them to make sure you understand how they work. strip and replace are particularly useful.',\n",
       " 'The documentation uses a syntax that might be confusing. For example, in find(sub[, start[, end]]), the brackets indicate optional arguments. So sub is required, but start is optional, and if you include start, then end is optional.',\n",
       " 'A tuple is a sequence of comma-separated values inside a pair of parenthesis. We will cover tuples in Chapter 10↩',\n",
       " '©2015-2018 Trinket']"
      ]
     },
     "execution_count": 23,
     "metadata": {},
     "output_type": "execute_result"
    }
   ],
   "source": [
    "paragraph = []\n",
    "for tag in soup.select('p'):\n",
    "    #print(tag.text)\n",
    "    paragraph.append(tag.text)\n",
    "    \n",
    "paragraph\n",
    "\n"
   ]
  },
  {
   "cell_type": "code",
   "execution_count": 41,
   "metadata": {
    "scrolled": true
   },
   "outputs": [
    {
     "data": {
      "text/plain": [
       "'  A string is a sequence of characters. You can access the characters one at a time with the bracket operator:   The second statement extracts the character at index position 1 from the fruit variable and assigns it to the letter variable. The expression in brackets is called an index. The index indicates which character in the sequence you want (hence the name). But you might not get what you expect: For most people, the first letter of \"banana\" is b, not a. But in Python, the index is an offset from the beginning of the string, and the offset of the first letter is zero. So b is the 0th letter (\"zero-eth\") of \"banana\", a is the 1th letter (\"one-eth\"), and n is the 2th (\"two-eth\") letter. String Indexes   You can use any expression, including variables and operators, as an index, but the value of the index has to be an integer. Otherwise you get:     len is a built-in function that returns the number of characters in a string: To get the last letter of a string, you might be tempted to try something like this:   The reason for the IndexError is that there is no letter in \\'banana\\' with the index 6. Since we started counting at zero, the six letters are numbered 0 to 5. To get the last character, you have to subtract 1 from length: Alternatively, you can use negative indices, which count backward from the end of the string. The expression fruit[-1] yields the last letter, fruit[-2] yields the second to last, and so on.     A lot of computations involve processing a string one character at a time. Often they start at the beginning, select each character in turn, do something to it, and continue until the end. This pattern of processing is called a traversal. One way to write a traversal is with a while loop: This loop traverses the string and displays each letter on a line by itself. The loop condition is index \\\\< len(fruit), so when index is equal to the length of the string, the condition is false, and the body of the loop is not executed. The last character accessed is the one with the index len(fruit)-1, which is the last character in the string. Exercise 1: Write a while loop that starts at the last character in the string and works its way backwards to the first character in the string, printing each letter on a separate line, except backwards. Another way to write a traversal is with a for loop: Each time through the loop, the next character in the string is assigned to the variable char. The loop continues until no characters are left.   A segment of a string is called a slice. Selecting a slice is similar to selecting a character: The operator returns the part of the string from the \"n-eth\" character to the \"m-eth\" character, including the first but excluding the last. If you omit the first index (before the colon), the slice starts at the beginning of the string. If you omit the second index, the slice goes to the end of the string: If the first index is greater than or equal to the second the result is an empty string, represented by two quotation marks:  An empty string contains no characters and has length 0, but other than that, it is the same as any other string. Exercise 2: Given that fruit is a string, what does fruit[:] mean?     It is tempting to use the operator on the left side of an assignment, with the intention of changing a character in a string. For example:   The \"object\" in this case is the string and the \"item\" is the character you tried to assign. For now, an object is the same thing as a value, but we will refine that definition later. An item is one of the values in a sequence.   The reason for the error is that strings are immutable, which means you can\\'t change an existing string. The best you can do is create a new string that is a variation on the original: This example concatenates a new first letter onto a slice of greeting. It has no effect on the original string.    The following program counts the number of times the letter a appears in a string: This program demonstrates another pattern of computation called a counter. The variable count is initialized to 0 and then incremented each time an a is found. When the loop exits, count contains the result: the total number of a\\'s. Exercise 3:  Encapsulate this code in a function named count, and generalize it so that it accepts the string and the letter as arguments.   The word in is a boolean operator that takes two strings and returns True if the first appears as a substring in the second:   The comparison operators work on strings. To see if two strings are equal: Other comparison operations are useful for putting words in alphabetical order: Python does not handle uppercase and lowercase letters the same way that people do. All the uppercase letters come before all the lowercase letters, so: A common way to address this problem is to convert strings to a standard format, such as all lowercase, before performing the comparison. Keep that in mind in case you have to defend yourself against a man armed with a Pineapple. Strings are an example of Python objects. An object contains both data (the actual string itself) and methods, which are effectively functions that are built into the object and are available to any instance of the object. Python has a function called dir which lists the methods available for an object. The type function shows the type of an object and the dir function shows the available methods. While the dir function lists the methods, and you can use help to get some simple documentation on a method, a better source of documentation for string methods would be https://docs.python.org/3.5/library/stdtypes.html#string-methods. Calling a method is similar to calling a function (it takes arguments and returns a value) but the syntax is different. We call a method by appending the method name to the variable name using the period as a delimiter. For example, the method upper takes a string and returns a new string with all uppercase letters:   Instead of the function syntax upper(word), it uses the method syntax word.upper().  This form of dot notation specifies the name of the method, upper, and the name of the string to apply the method to, word. The empty parentheses indicate that this method takes no argument.  A method call is called an invocation; in this case, we would say that we are invoking upper on the word.  For example, there is a string method named find that searches for the position of one string within another: In this example, we invoke find on word and pass the letter we are looking for as a parameter. The find method can find substrings as well as characters: It can take as a second argument the index where it should start:   One common task is to remove white space (spaces, tabs, or newlines) from the beginning and end of a string using the strip method: Some methods such as startswith return boolean values. You will note that startswith requires case to match, so sometimes we take a line and map it all to lowercase before we do any checking using the lower method. In the last example, the method lower is called and then we use startswith to see if the resulting lowercase string starts with the letter \"h\". As long as we are careful with the order, we can make multiple method calls in a single expression. Exercise 4:   There is a string method called count that is similar to the function in the previous exercise. Read the documentation of this method at https://docs.python.org/3.5/library/stdtypes.html#string-methods and write an invocation that counts the number of times the letter a occurs in \"banana\". Often, we want to look into a string and find a substring. For example if we were presented a series of lines formatted as follows: From\\xa0stephen.marquard@\\xa0uct.ac.za\\xa0Sat\\xa0Jan\\xa0\\xa05\\xa009:14:16\\xa02008 and we wanted to pull out only the second half of the address (i.e., uct.ac.za) from each line, we can do this by using the find method and string slicing. First, we will find the position of the at-sign in the string. Then we will find the position of the first space after the at-sign. And then we will use string slicing to extract the portion of the string which we are looking for. We use a version of the find method which allows us to specify a position in the string where we want find to start looking. When we slice, we extract the characters from \"one beyond the at-sign through up to but not including the space character\". The documentation for the find method is available at https://docs.python.org/3.5/library/stdtypes.html#string-methods.   The format operator, % allows us to construct strings, replacing parts of the strings with the data stored in variables. When applied to integers, % is the modulus operator. But when the first operand is a string, % is the format operator.  The first operand is the format string, which contains one or more format sequences that specify how the second operand is formatted. The result is a string.  For example, the format sequence \"%d\" means that the second operand should be formatted as an integer (d stands for \"decimal\"): The result is the string \"42\", which is not to be confused with the integer value 42. A format sequence can appear anywhere in the string, so you can embed a value in a sentence: If there is more than one format sequence in the string, the second argument has to be a tuple1. Each format sequence is matched with an element of the tuple, in order. The following example uses \"%d\" to format an integer, \"%g\" to format a floating-point number (don\\'t ask why), and \"%s\" to format a string: The number of elements in the tuple must match the number of format sequences in the string. The types of the elements also must match the format sequences:   In the first example, there aren\\'t enough elements; in the second, the element is the wrong type. The format operator is powerful, but it can be difficult to use. You can read more about it at https://docs.python.org/3.5/library/stdtypes.html#printf-style-string-formatting.  A skill that you should cultivate as you program is always asking yourself, \"What could go wrong here?\" or alternatively, \"What crazy thing might our user do to crash our (seemingly) perfect program?\" For example, look at the program which we used to demonstrate the while loop in the chapter on iteration: Look what happens when the user enters an empty line of input: The code works fine until it is presented an empty line. Then there is no zero-th character, so we get a traceback. There are two solutions to this to make line three \"safe\" even if the line is empty. One possibility is to simply use the startswith method which returns False if the string is empty.   Another way is to safely write the if statement using the guardian pattern and make sure the second logical expression is evaluated only where there is at least one character in the string.:                    Exercise 5: Take the following Python code that stores a string:` str = \\'X-DSPAM-Confidence:0.8475\\' Use find and string slicing to extract the portion of the string after the colon character and then use the float function to convert the extracted string into a floating point number. Exercise 6:   Read the documentation of the string methods at https://docs.python.org/3.5/library/stdtypes.html#string-methods You might want to experiment with some of them to make sure you understand how they work. strip and replace are particularly useful. The documentation uses a syntax that might be confusing. For example, in find(sub[, start[, end]]), the brackets indicate optional arguments. So sub is required, but start is optional, and if you include start, then end is optional. A tuple is a sequence of comma-separated values inside a pair of parenthesis. We will cover tuples in Chapter 10↩ ©2015-2018 Trinket'"
      ]
     },
     "execution_count": 41,
     "metadata": {},
     "output_type": "execute_result"
    }
   ],
   "source": [
    "text = ' '.join(paragraph)\n",
    "text"
   ]
  },
  {
   "cell_type": "code",
   "execution_count": 27,
   "metadata": {},
   "outputs": [],
   "source": [
    "#blob = TextBlob(text)\n",
    "#blob"
   ]
  },
  {
   "cell_type": "code",
   "execution_count": 55,
   "metadata": {},
   "outputs": [],
   "source": [
    "totalwords = len(text.split())"
   ]
  },
  {
   "cell_type": "code",
   "execution_count": 56,
   "metadata": {},
   "outputs": [
    {
     "name": "stdout",
     "output_type": "stream",
     "text": [
      "15.638461538461538\n"
     ]
    }
   ],
   "source": [
    "readingtime = totalwords/130\n",
    "print(readingtime)"
   ]
  },
  {
   "cell_type": "code",
   "execution_count": 65,
   "metadata": {},
   "outputs": [
    {
     "name": "stdout",
     "output_type": "stream",
     "text": [
      "It will take you 15.6 minutes to read this\n",
      "How many minutes do you have to read this? 3\n"
     ]
    }
   ],
   "source": [
    "print(\"It will take you %.1f minutes to read this\" %readingtime )\n",
    "minutes = float(input(\"How many minutes do you have to read this? \"))"
   ]
  },
  {
   "cell_type": "code",
   "execution_count": 66,
   "metadata": {},
   "outputs": [
    {
     "name": "stdout",
     "output_type": "stream",
     "text": [
      "390.0\n"
     ]
    }
   ],
   "source": [
    "words = minutes*130\n",
    "print(words)"
   ]
  },
  {
   "cell_type": "code",
   "execution_count": null,
   "metadata": {},
   "outputs": [],
   "source": [
    "#import logging\n",
    "#logging.basicConfig(format='%(asctime)s : %(levelname)s : %(message)s', level=logging.INFO)\n",
    "\n",
    "#from gensim.summarization import summarize"
   ]
  },
  {
   "cell_type": "code",
   "execution_count": 67,
   "metadata": {},
   "outputs": [
    {
     "name": "stdout",
     "output_type": "stream",
     "text": [
      "Summary:\n",
      "Otherwise you get:     len is a built-in function that returns the number of characters in a string: To get the last letter of a string, you might be tempted to try something like this:   The reason for the IndexError is that there is no letter in 'banana' with the index 6.\n",
      "Exercise 1: Write a while loop that starts at the last character in the string and works its way backwards to the first character in the string, printing each letter on a separate line, except backwards.\n",
      "To see if two strings are equal: Other comparison operations are useful for putting words in alphabetical order: Python does not handle uppercase and lowercase letters the same way that people do.\n",
      "While the dir function lists the methods, and you can use help to get some simple documentation on a method, a better source of documentation for string methods would be https://docs.python.org/3.5/library/stdtypes.html#string-methods.\n",
      "For example, the method upper takes a string and returns a new string with all uppercase letters:   Instead of the function syntax upper(word), it uses the method syntax word.upper().\n",
      "The find method can find substrings as well as characters: It can take as a second argument the index where it should start:   One common task is to remove white space (spaces, tabs, or newlines) from the beginning and end of a string using the strip method: Some methods such as startswith return boolean values.\n",
      "In the last example, the method lower is called and then we use startswith to see if the resulting lowercase string starts with the letter \"h\".\n",
      "Read the documentation of this method at https://docs.python.org/3.5/library/stdtypes.html#string-methods and write an invocation that counts the number of times the letter a occurs in \"banana\".\n",
      "We use a version of the find method which allows us to specify a position in the string where we want find to start looking.\n",
      "Another way is to safely write the if statement using the guardian pattern and make sure the second logical expression is evaluated only where there is at least one character in the string.:                    Exercise 5: Take the following Python code that stores a string:` str = 'X-DSPAM-Confidence:0.8475' Use find and string slicing to extract the portion of the string after the colon character and then use the float function to convert the extracted string into a floating point number.\n"
     ]
    }
   ],
   "source": [
    "print('Summary:') \n",
    "sumtext= summarize(text, words = words)\n",
    "print (sumtext)"
   ]
  },
  {
   "cell_type": "code",
   "execution_count": 68,
   "metadata": {},
   "outputs": [
    {
     "name": "stdout",
     "output_type": "stream",
     "text": [
      "388\n"
     ]
    }
   ],
   "source": [
    "totalsumwords= len(sumtext.split())\n",
    "print(totalsumwords)"
   ]
  },
  {
   "cell_type": "code",
   "execution_count": null,
   "metadata": {},
   "outputs": [],
   "source": []
  }
 ],
 "metadata": {
  "kernelspec": {
   "display_name": "Python 3",
   "language": "python",
   "name": "python3"
  },
  "language_info": {
   "codemirror_mode": {
    "name": "ipython",
    "version": 3
   },
   "file_extension": ".py",
   "mimetype": "text/x-python",
   "name": "python",
   "nbconvert_exporter": "python",
   "pygments_lexer": "ipython3",
   "version": "3.6.6"
  }
 },
 "nbformat": 4,
 "nbformat_minor": 2
}
