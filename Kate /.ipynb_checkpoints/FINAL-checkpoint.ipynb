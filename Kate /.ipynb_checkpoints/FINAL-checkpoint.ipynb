{
 "cells": [
  {
   "cell_type": "code",
   "execution_count": 45,
   "metadata": {},
   "outputs": [],
   "source": [
    "import requests\n",
    "from bs4 import BeautifulSoup\n",
    "import logging\n",
    "logging.basicConfig(format='%(asctime)s : %(levelname)s : %(message)s', level=logging.INFO)\n",
    "from gensim.summarization import summarize"
   ]
  },
  {
   "cell_type": "code",
   "execution_count": 60,
   "metadata": {},
   "outputs": [
    {
     "name": "stdout",
     "output_type": "stream",
     "text": [
      "Please enter your URL to your text: \n"
     ]
    }
   ],
   "source": [
    "url = input(\"Please enter your URL to your text: \")"
   ]
  },
  {
   "cell_type": "code",
   "execution_count": 47,
   "metadata": {},
   "outputs": [],
   "source": [
    "#gathers whole text in html format\n",
    "response = requests.get(url)\n",
    "html = response.text\n"
   ]
  },
  {
   "cell_type": "code",
   "execution_count": 48,
   "metadata": {},
   "outputs": [],
   "source": [
    "soup = BeautifulSoup(html)"
   ]
  },
  {
   "cell_type": "code",
   "execution_count": 49,
   "metadata": {},
   "outputs": [],
   "source": [
    "#breaks into normal text without inner tags except /n's\n",
    "paragraph = []\n",
    "for tag in soup.select('p'):\n",
    "    paragraph.append(tag.text)  "
   ]
  },
  {
   "cell_type": "code",
   "execution_count": 50,
   "metadata": {},
   "outputs": [],
   "source": [
    "text = ' '.join(paragraph)"
   ]
  },
  {
   "cell_type": "code",
   "execution_count": 51,
   "metadata": {},
   "outputs": [],
   "source": [
    "totalwords = len(text.split())"
   ]
  },
  {
   "cell_type": "code",
   "execution_count": 52,
   "metadata": {},
   "outputs": [],
   "source": [
    "slow = 200\n",
    "average = 300 \n",
    "fast = 400"
   ]
  },
  {
   "cell_type": "code",
   "execution_count": 53,
   "metadata": {},
   "outputs": [
    {
     "name": "stdout",
     "output_type": "stream",
     "text": [
      "Are you an slow, average, or fast reader? fast\n"
     ]
    }
   ],
   "source": [
    "skill = input(\"Are you an slow, average, or fast reader? \")\n",
    "\n",
    "if skill == 'slow':\n",
    "    readingtime = totalwords/slow\n",
    "    skill = slow\n",
    "elif skill == \"average\":\n",
    "    readingtime = totalwords/average\n",
    "    skill = average\n",
    "elif skill == \"fast\": \n",
    "    readingtime = totalwords/fast\n",
    "    skill = fast\n",
    "else:\n",
    "    print(\"Please enter a valid speed.\")         \n"
   ]
  },
  {
   "cell_type": "code",
   "execution_count": 54,
   "metadata": {},
   "outputs": [
    {
     "name": "stdout",
     "output_type": "stream",
     "text": [
      "It will take you 5.8 minutes to read this.\n"
     ]
    }
   ],
   "source": [
    "print(\"It will take you %.1f minutes to read this.\" %readingtime )"
   ]
  },
  {
   "cell_type": "code",
   "execution_count": 55,
   "metadata": {},
   "outputs": [
    {
     "name": "stdout",
     "output_type": "stream",
     "text": [
      "How many minutes do you have to read this? 2\n"
     ]
    }
   ],
   "source": [
    "minutes = float(input(\"How many minutes do you have to read this? \"))"
   ]
  },
  {
   "cell_type": "code",
   "execution_count": 56,
   "metadata": {},
   "outputs": [],
   "source": [
    "words = minutes*skill"
   ]
  },
  {
   "cell_type": "code",
   "execution_count": 57,
   "metadata": {
    "scrolled": true
   },
   "outputs": [
    {
     "name": "stderr",
     "output_type": "stream",
     "text": [
      "2018-12-13 18:26:00,341 : INFO : adding document #0 to Dictionary(0 unique tokens: [])\n",
      "2018-12-13 18:26:00,343 : INFO : built Dictionary(272 unique tokens: ['assign', 'common', 'depend', 'new', 'old']...) from 93 documents (total 944 corpus positions)\n"
     ]
    },
    {
     "name": "stdout",
     "output_type": "stream",
     "text": [
      "Summary:\n",
      "We call each time we execute the body of the loop an iteration.\n",
      "For the above loop, we would say, \"It had five iterations\", which means that the body of the loop was executed five times.\n",
      "The body of the loop should change the value of one or more variables so that eventually the condition becomes false and the loop terminates.\n",
      "We call the variable that changes each time the loop executes and controls when the loop finishes the iteration variable.\n",
      "An endless source of amusement for programmers is the observation that the directions on shampoo, \"Lather, rinse, repeat,\" are an infinite loop because there is no iteration variable telling you how many times to execute the loop.\n",
      "Other times a loop is obviously infinite because it has no iteration variable at all.\n",
      "Sometimes you don't know it's time to end a loop until you get half way through the body.\n",
      "In that case you can write an infinite loop on purpose and then use the break statement to jump out of the loop.\n",
      "This loop is obviously an infinite loop because the logical expression on the while statement is simply the logical constant True: If you make the mistake and run this code, you will learn quickly how to stop a runaway Python process on your system or find where the power-off button is on your computer.\n",
      "You could write: The loop condition is True, which is always true, so the loop runs repeatedly until it hits the break statement.\n",
      "In that case you can use the continue statement to skip to the next iteration without finishing the body of the loop for the current iteration.\n",
      "The variable friend changes for each iteration of the loop and controls when the for loop completes.\n",
      "Often we use a for or while loop to go through a list of items or the contents of a file and we are looking for something such as the largest or smallest value of the data we scan through.\n",
      "These loops are generally constructed by: Initializing one or more variables before the loop starts Performing some computation on each item in the loop body, possibly changing the variables in the body of the loop Looking at the resulting variables when the loop completes We will use a list of numbers to demonstrate the concepts and construction of these loop patterns.\n",
      "For example, to count the number of items in a list, we would write the following for loop: We set the variable count to zero before the loop starts, then we write a for loop to run through the list of numbers.\n",
      "Our iteration variable is named itervar and while we do not use itervar in the loop, it does control the loop and cause the loop body to be executed once for each of the values in the list.\n",
      "In the body of the loop, we add 1 to the current value of count for each of the values in the list.\n",
      "While the loop is executing, the value of count is the number of values we have seen \"so far\".\n",
      "Once the loop completes, the value of count is the total number of items.\n",
      "Another similar loop that computes the total of a set of numbers is as follows: In this loop we do use the iteration variable.\n",
      "Instead of simply adding one to the count as in the previous loop, we add the actual number (3, 41, 12, etc.) to the running total during each loop iteration.\n",
      "Neither the counting loop nor the summing loop are particularly useful in practice because there are built-in functions len() and sum() that compute the number of items in a list and the total of the items in the list respectively.\n",
      "To find the largest value in a list or sequence, we construct the following loop: When the program executes, the output is as follows: The variable largest is best thought of as the \"largest value we have seen so far\".\n",
      "While the loop is executing, if largest is None then we take the first value we see as the largest so far.\n",
      "At the end of the loop, we have scanned all of the values and the variable largest now does contain the largest value in the list.\n",
      "To compute the smallest number, the code is very similar with one small change: Again, smallest is the \"smallest so far\" before, during, and after the loop executes.\n",
      "Exercise 2: Write another program that prompts for a list of numbers as above and at the end prints out both the maximum and minimum of the numbers instead of the average.\n"
     ]
    }
   ],
   "source": [
    "print('Summary:') \n",
    "sumtext = summarize(text, word_count = words)\n",
    "print (sumtext)"
   ]
  },
  {
   "cell_type": "code",
   "execution_count": 58,
   "metadata": {},
   "outputs": [],
   "source": [
    "totalsumwords= len(sumtext.split())"
   ]
  },
  {
   "cell_type": "code",
   "execution_count": 59,
   "metadata": {},
   "outputs": [
    {
     "name": "stdout",
     "output_type": "stream",
     "text": [
      "We saved you about 4 minutes of reading time.\n"
     ]
    }
   ],
   "source": [
    "timesaved = readingtime - minutes\n",
    "\n",
    "print(\"We saved you about %.0f minutes of reading time.\" %timesaved)"
   ]
  },
  {
   "cell_type": "code",
   "execution_count": null,
   "metadata": {},
   "outputs": [],
   "source": []
  }
 ],
 "metadata": {
  "kernelspec": {
   "display_name": "Python 3",
   "language": "python",
   "name": "python3"
  },
  "language_info": {
   "codemirror_mode": {
    "name": "ipython",
    "version": 3
   },
   "file_extension": ".py",
   "mimetype": "text/x-python",
   "name": "python",
   "nbconvert_exporter": "python",
   "pygments_lexer": "ipython3",
   "version": "3.6.6"
  }
 },
 "nbformat": 4,
 "nbformat_minor": 2
}
